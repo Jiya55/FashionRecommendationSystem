{
 "cells": [
  {
   "cell_type": "markdown",
   "id": "f38cab8a",
   "metadata": {},
   "source": [
    "# Fashion Recommendation System using Python"
   ]
  },
  {
   "cell_type": "markdown",
   "id": "44d19407",
   "metadata": {},
   "source": [
    "A fashion recommendation system is an application that recommends the most trending fashion based on the user’s search query. "
   ]
  },
  {
   "cell_type": "markdown",
   "id": "ad464b8a",
   "metadata": {},
   "source": [
    "## Importing The Dataset"
   ]
  },
  {
   "cell_type": "code",
   "execution_count": 11,
   "id": "405b53ea",
   "metadata": {},
   "outputs": [],
   "source": [
    "dataset_url = r'C:\\Users\\BESTSELLER\\Desktop\\coding\\coding portfolo\\myntra kurtis.csv' "
   ]
  },
  {
   "cell_type": "code",
   "execution_count": 14,
   "id": "4e714b2a",
   "metadata": {},
   "outputs": [],
   "source": [
    "import numpy as np\n",
    "import pandas as pd"
   ]
  },
  {
   "cell_type": "code",
   "execution_count": 16,
   "id": "3b497d66",
   "metadata": {},
   "outputs": [
    {
     "data": {
      "text/html": [
       "<div>\n",
       "<style scoped>\n",
       "    .dataframe tbody tr th:only-of-type {\n",
       "        vertical-align: middle;\n",
       "    }\n",
       "\n",
       "    .dataframe tbody tr th {\n",
       "        vertical-align: top;\n",
       "    }\n",
       "\n",
       "    .dataframe thead th {\n",
       "        text-align: right;\n",
       "    }\n",
       "</style>\n",
       "<table border=\"1\" class=\"dataframe\">\n",
       "  <thead>\n",
       "    <tr style=\"text-align: right;\">\n",
       "      <th></th>\n",
       "      <th>Brand Name</th>\n",
       "      <th>Product URL</th>\n",
       "      <th>Image</th>\n",
       "      <th>Product Ratings</th>\n",
       "      <th>Number of ratings</th>\n",
       "      <th>Product Info</th>\n",
       "      <th>Selling Price</th>\n",
       "      <th>Price</th>\n",
       "      <th>Discount</th>\n",
       "    </tr>\n",
       "  </thead>\n",
       "  <tbody>\n",
       "    <tr>\n",
       "      <th>0</th>\n",
       "      <td>Rain &amp; Rainbow</td>\n",
       "      <td>https://www.myntra.com/kurtis/rain--rainbow/ra...</td>\n",
       "      <td>https://assets.myntassets.com/dpr_2,q_60,w_210...</td>\n",
       "      <td>4.2</td>\n",
       "      <td>28</td>\n",
       "      <td>Printed Pure Cotton Kurti</td>\n",
       "      <td>837.0</td>\n",
       "      <td>1395.0</td>\n",
       "      <td>(40% OFF)</td>\n",
       "    </tr>\n",
       "  </tbody>\n",
       "</table>\n",
       "</div>"
      ],
      "text/plain": [
       "       Brand Name                                        Product URL  \\\n",
       "0  Rain & Rainbow  https://www.myntra.com/kurtis/rain--rainbow/ra...   \n",
       "\n",
       "                                               Image  Product Ratings  \\\n",
       "0  https://assets.myntassets.com/dpr_2,q_60,w_210...              4.2   \n",
       "\n",
       "   Number of ratings               Product Info  Selling Price   Price  \\\n",
       "0                 28  Printed Pure Cotton Kurti          837.0  1395.0   \n",
       "\n",
       "    Discount  \n",
       "0  (40% OFF)  "
      ]
     },
     "execution_count": 16,
     "metadata": {},
     "output_type": "execute_result"
    }
   ],
   "source": [
    "df = pd.read_csv(dataset_url)\n",
    "df.head(1)"
   ]
  },
  {
   "cell_type": "code",
   "execution_count": 18,
   "id": "b7010014",
   "metadata": {},
   "outputs": [
    {
     "name": "stdout",
     "output_type": "stream",
     "text": [
      "Brand Name             0\n",
      "Product URL            0\n",
      "Image                467\n",
      "Product Ratings      198\n",
      "Number of ratings      0\n",
      "Product Info           0\n",
      "Selling Price         74\n",
      "Price                 74\n",
      "Discount              74\n",
      "dtype: int64\n"
     ]
    }
   ],
   "source": [
    "print(df.isnull().sum())"
   ]
  },
  {
   "cell_type": "code",
   "execution_count": 20,
   "id": "33f1319f",
   "metadata": {},
   "outputs": [],
   "source": [
    "df = df.drop(\"Image\",axis=1)"
   ]
  },
  {
   "cell_type": "code",
   "execution_count": 21,
   "id": "55131597",
   "metadata": {},
   "outputs": [],
   "source": [
    "df = df.dropna()"
   ]
  },
  {
   "cell_type": "code",
   "execution_count": 22,
   "id": "d3ac3323",
   "metadata": {},
   "outputs": [
    {
     "name": "stdout",
     "output_type": "stream",
     "text": [
      "                                 Product Info  Product Ratings  \\\n",
      "448                   Solid Pure Cotton Kurti              5.0   \n",
      "538                         Pure Cotton Kurti              5.0   \n",
      "308                      Floral Printed Kurti              5.0   \n",
      "277             Women Solid Embellished Kurti              5.0   \n",
      "249               Floral Printed Kaftan Kurta              5.0   \n",
      "435                     Mandarin Collar Kurti              5.0   \n",
      "515              Chikankari Embroidered Kurti              5.0   \n",
      "103  Ethnic Motifs Embroidered Handloom Kurti              4.9   \n",
      "62                Ethnic Motifs Printed Kurti              4.9   \n",
      "588           Ethnic Motifs Embroidered Kurti              4.9   \n",
      "\n",
      "           Brand Name  \n",
      "448           MALHAAR  \n",
      "538           MALHAAR  \n",
      "308           MALHAAR  \n",
      "277          Fabindia  \n",
      "249           Sangria  \n",
      "435            INDYES  \n",
      "515  PARAMOUNT CHIKAN  \n",
      "103               ADA  \n",
      "62               Biba  \n",
      "588               ADA  \n"
     ]
    }
   ],
   "source": [
    "highest_rated = data.sort_values(by=[\"Product Ratings\"], \n",
    "                                 ascending=False)\n",
    "highest_rated = highest_rated.head(10)\n",
    "print(highest_rated[['Product Info', \"Product Ratings\", \"Brand Name\"]])"
   ]
  },
  {
   "cell_type": "code",
   "execution_count": 23,
   "id": "97bc8d49",
   "metadata": {},
   "outputs": [
    {
     "name": "stdout",
     "output_type": "stream",
     "text": [
      "         Brand Name                                       Product Info  \\\n",
      "48            Tissu                    Women Floral Print A-Line Kurti   \n",
      "66     YASH GALLERY                               Printed A-Line Kurti   \n",
      "11        Anubhutee                        Ethnic Motifs Printed Kurti   \n",
      "102          AKIMIA                      Embroidered Pure Cotton Kurti   \n",
      "155       Anubhutee                                Women Printed Kurti   \n",
      "18            GERUA                        Ethnic Motifs Printed Kurti   \n",
      "20   Rain & Rainbow                        Ethnic Printed Cotton Kurti   \n",
      "42   Rain & Rainbow  Women Printed Pure Cotton Pure Cotton A-Line K...   \n",
      "56           Sztori                     Plus Size Printed Cotton Kurti   \n",
      "121          AKIMIA        Ethnic Motifs Embroidered Pure Cotton Kurti   \n",
      "\n",
      "     Product Ratings     Score  Selling Price   Discount  \n",
      "48               4.4  4.370141          549.0  (45% OFF)  \n",
      "66               4.5  4.367834          629.0  (55% OFF)  \n",
      "11               4.4  4.346158          521.0  (70% OFF)  \n",
      "102              4.5  4.344773          767.0  (52% OFF)  \n",
      "155              4.4  4.343266          486.0  (72% OFF)  \n",
      "18               4.6  4.342511          449.0  (70% OFF)  \n",
      "20               4.5  4.329373          877.0  (45% OFF)  \n",
      "42               4.4  4.316688          797.0  (50% OFF)  \n",
      "56               4.8  4.306698          479.0  (70% OFF)  \n",
      "121              4.4  4.301920          767.0  (52% OFF)  \n"
     ]
    }
   ],
   "source": [
    "mr = data['Product Ratings'].mean()\n",
    "m = data['Number of ratings'].quantile(0.9)\n",
    "n = data['Number of ratings']\n",
    "a = data['Product Ratings']\n",
    "data[\"Score\"]  = (n/(n+m) * a) + (m/(m+n) * mr)\n",
    "\n",
    "recommendations = data.sort_values('Score', ascending=False)\n",
    "print(recommendations[['Brand Name', 'Product Info',\n",
    "                       'Product Ratings', 'Score', \n",
    "                       'Selling Price', 'Discount']].head(10))"
   ]
  },
  {
   "cell_type": "markdown",
   "id": "6dd7dd74",
   "metadata": {},
   "source": []
  }
 ],
 "metadata": {
  "kernelspec": {
   "display_name": "Python 3 (ipykernel)",
   "language": "python",
   "name": "python3"
  },
  "language_info": {
   "codemirror_mode": {
    "name": "ipython",
    "version": 3
   },
   "file_extension": ".py",
   "mimetype": "text/x-python",
   "name": "python",
   "nbconvert_exporter": "python",
   "pygments_lexer": "ipython3",
   "version": "3.9.13"
  }
 },
 "nbformat": 4,
 "nbformat_minor": 5
}
